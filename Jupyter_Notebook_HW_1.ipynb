{
 "cells": [
  {
   "cell_type": "markdown",
   "id": "70ed9bf9",
   "metadata": {},
   "source": [
    "## Задача 1\n",
    "\n",
    "Оформляйте ноутбук, используя эти советы:\n",
    "Номер задачи - заголовок 2\n",
    "Номер подзадачи - заголовок 3"
   ]
  },
  {
   "cell_type": "markdown",
   "id": "0acf2be6",
   "metadata": {},
   "source": [
    "## Задача 2\n",
    "\n",
    "На складе лежат разные фрукты в разном количестве.\n",
    "Нужно написать функцию, которая на вход принимает любое количество названий фруктов и их количество, а возвращает общее количество фруктов на складе"
   ]
  },
  {
   "cell_type": "code",
   "execution_count": 5,
   "id": "69b58155",
   "metadata": {},
   "outputs": [
    {
     "name": "stdout",
     "output_type": "stream",
     "text": [
      "214\n"
     ]
    }
   ],
   "source": [
    "all_fruits = {'orange': 46,'pineapple': 32, 'watermelon': 11, 'mango': 27, 'apple': 98}    \n",
    "print(sum(all_fruits.values()))\n"
   ]
  },
  {
   "cell_type": "code",
   "execution_count": 9,
   "id": "f20e089c",
   "metadata": {},
   "outputs": [
    {
     "name": "stdout",
     "output_type": "stream",
     "text": [
      "214\n"
     ]
    }
   ],
   "source": [
    "def fruits(**kwargs):\n",
    "    \n",
    "    all_fruits = sum(kwargs.values())\n",
    "    \n",
    "    return all_fruits\n",
    "print(fruits(orange=46, pineapple=32, watermelon=11, mango=27, apple=98))"
   ]
  },
  {
   "cell_type": "markdown",
   "id": "03a701bb",
   "metadata": {},
   "source": [
    "## Задача 3\n",
    "\n",
    "Дан список с затратами на рекламу. Но в данных есть ошибки, некоторые затраты имеют отрицательную величину. Удалите такие значения из списка и посчитайте суммарные затраты\n",
    "[100, 125, -90, 345, 655, -1, 0, 200]\n",
    "Используйте list comprehensions"
   ]
  },
  {
   "cell_type": "code",
   "execution_count": 16,
   "id": "547bb4ec",
   "metadata": {},
   "outputs": [
    {
     "name": "stdout",
     "output_type": "stream",
     "text": [
      "[100, 125, 345, 655, 200]\n",
      "1425\n"
     ]
    }
   ],
   "source": [
    "data = [100, 125, -90, 345, 655, -1, 0, 200]\n",
    "\n",
    "print([i for i in data if i > 0 ])\n",
    "\n",
    "print(sum([i for i in data if i > 0 ]))"
   ]
  },
  {
   "cell_type": "markdown",
   "id": "f3fd853c",
   "metadata": {},
   "source": [
    "## Задача 4\n",
    "Даны два списка.\n",
    "Дата покупки\n",
    "['2021-09-14', '2021-12-15', '2021-09-08', '2021-12-05', '2021-10-09', '2021-09-30', '2021-12-22', '2021-11-29', '2021-12-24', '2021-11-26', '2021-10-27', '2021-12-18', '2021-11-09', '2021-11-23', '2021-09-27', '2021-10-02', '2021-12-27', '2021-09-20', '2021-12-13', '2021-11-01', '2021-11-09', '2021-12-06', '2021-12-08', '2021-10-09', '2021-10-31', '2021-09-30', '2021-11-09', '2021-12-13', '2021-10-26', '2021-12-09']\n",
    "Суммы покупок по датам\n",
    "[1270, 8413, 9028, 3703, 5739, 4095, 295, 4944, 5723, 3701, 4471, 651, 7037, 4274, 6275, 4988, 6930, 2971, 6592, 2004, 2822, 519, 3406, 2732, 5015, 2008, 316, 6333, 5700, 2887]\n",
    "\n",
    "### 4.1 \n",
    "Найдите, какая выручка у компании в ноябре\n",
    "Используйте list comprehensions\n"
   ]
  },
  {
   "cell_type": "code",
   "execution_count": 21,
   "id": "ff1c1346",
   "metadata": {},
   "outputs": [
    {
     "name": "stdout",
     "output_type": "stream",
     "text": [
      "[4944, 3701, 7037, 4274, 2004, 2822, 316]\n",
      "25098\n"
     ]
    }
   ],
   "source": [
    "date = ['2021-09-14', '2021-12-15', '2021-09-08', '2021-12-05', '2021-10-09', \n",
    "        '2021-09-30', '2021-12-22', '2021-11-29', '2021-12-24', '2021-11-26', \n",
    "        '2021-10-27', '2021-12-18', '2021-11-09', '2021-11-23', '2021-09-27', \n",
    "        '2021-10-02', '2021-12-27', '2021-09-20', '2021-12-13', '2021-11-01', \n",
    "        '2021-11-09', '2021-12-06', '2021-12-08', '2021-10-09', '2021-10-31', \n",
    "        '2021-09-30', '2021-11-09', '2021-12-13', '2021-10-26', '2021-12-09']\n",
    "cost = [1270, 8413, 9028, 3703, 5739, 4095, 295, 4944, 5723, 3701, \n",
    "        4471, 651, 7037, 4274, 6275, 4988, 6930, 2971, 6592, 2004, \n",
    "        2822, 519, 3406, 2732, 5015, 2008, 316, 6333, 5700, 2887]\n",
    "\n",
    "print([cost[i] for i in range(0, len(date)-1) if \"-11\" in date[i]])\n",
    "print(sum([cost[i] for i in range(len(date)-1) if \"-11\" in date[i]]))"
   ]
  },
  {
   "cell_type": "markdown",
   "id": "b768d8aa",
   "metadata": {},
   "source": [
    "### 4.2\n",
    "Найдите выручку компании в зависимости от месяца\n",
    "Для этого напишите функцию, которая на вход принимает список с датами и список с выручкой, а на выходе словарь, где ключи - это месяцы, а значения - это выручка.\n",
    "Используйте аннотирование типов."
   ]
  },
  {
   "cell_type": "code",
   "execution_count": 22,
   "id": "39a395e0",
   "metadata": {},
   "outputs": [
    {
     "name": "stdout",
     "output_type": "stream",
     "text": [
      "{'09': 25647, '12': 45452, '10': 28645, '11': 25098}\n"
     ]
    }
   ],
   "source": [
    "def profits(data1: list, data2: list) -> dict:\n",
    "    \n",
    "    profits = {}\n",
    "    \n",
    "    for i in range(len(data1)):\n",
    "        \n",
    "        if date[i].split('-')[1] in profits.keys():\n",
    "            profits[date[i].split('-')[1]] += cost[i]\n",
    "        else:\n",
    "            profits[date[i].split('-')[1]] = cost[i]\n",
    "            \n",
    "    return profits\n",
    "\n",
    "print(profits(date, cost))"
   ]
  },
  {
   "cell_type": "code",
   "execution_count": null,
   "id": "a62d214a",
   "metadata": {},
   "outputs": [],
   "source": []
  }
 ],
 "metadata": {
  "kernelspec": {
   "display_name": "Python 3 (ipykernel)",
   "language": "python",
   "name": "python3"
  },
  "language_info": {
   "codemirror_mode": {
    "name": "ipython",
    "version": 3
   },
   "file_extension": ".py",
   "mimetype": "text/x-python",
   "name": "python",
   "nbconvert_exporter": "python",
   "pygments_lexer": "ipython3",
   "version": "3.9.13"
  }
 },
 "nbformat": 4,
 "nbformat_minor": 5
}
